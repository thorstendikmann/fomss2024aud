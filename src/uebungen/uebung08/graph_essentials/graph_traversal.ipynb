{
 "cells": [
  {
   "cell_type": "markdown",
   "id": "5bf06d6e-9ce1-4d2f-8fe3-528206558f45",
   "metadata": {},
   "source": [
    "# Graph Traversal"
   ]
  },
  {
   "cell_type": "code",
   "execution_count": null,
   "id": "168dbc31",
   "metadata": {},
   "outputs": [],
   "source": [
    "from importlib import reload\n",
    "\n",
    "import logging\n",
    "logging.basicConfig(level=logging.DEBUG,format='%(levelname)s - %(message)s')\n",
    "logging.getLogger(\"graph.undirectedgraph\").setLevel(logging.DEBUG)"
   ]
  },
  {
   "cell_type": "code",
   "execution_count": null,
   "id": "6c67ee38",
   "metadata": {},
   "outputs": [],
   "source": [
    "# Add the data structure folder to path\n",
    "import sys\n",
    "sys.path.insert(0,'../../../chapter/05_graph/')"
   ]
  },
  {
   "cell_type": "markdown",
   "id": "46c1f4d2",
   "metadata": {},
   "source": [
    "Durchlaufen Sie untenstehenden Graphen mit Hilfe der a) Tiefen- und b) Breitensuche beginnend bei Knoten 0. Geben Sie bei jedem Schritt den aktuell betrachteten Knoten sowie Inhalt des Stapelspeichers / der Warteschlange tabellarisch an."
   ]
  },
  {
   "cell_type": "code",
   "execution_count": null,
   "id": "aae75ce6-ddeb-4b71-8c34-abd6746277f5",
   "metadata": {},
   "outputs": [],
   "source": [
    "from graph.undirectedgraph import * \n",
    "\n",
    "def echoNode(node):\n",
    "    print(f\" ... echo {node}\")\n",
    "\n",
    "g = Graph()\n",
    "for i in range(0,9):\n",
    "    g.add_node(Node(str(i)))\n",
    "\n",
    "g.add_edge_between(\"0\",\"1\")\n",
    "g.add_edge_between(\"0\",\"2\")\n",
    "g.add_edge_between(\"0\",\"4\")\n",
    "g.add_edge_between(\"1\",\"4\")\n",
    "g.add_edge_between(\"1\",\"2\")\n",
    "g.add_edge_between(\"1\",\"3\")\n",
    "g.add_edge_between(\"1\",\"7\")\n",
    "g.add_edge_between(\"2\",\"3\")\n",
    "g.add_edge_between(\"2\",\"5\")\n",
    "g.add_edge_between(\"3\",\"6\")\n",
    "g.add_edge_between(\"3\",\"7\")\n",
    "g.add_edge_between(\"3\",\"8\")\n",
    "g.add_edge_between(\"4\",\"7\")\n",
    "g.add_edge_between(\"5\",\"6\")\n",
    "g.add_edge_between(\"6\",\"8\")\n",
    "g.add_edge_between(\"7\",\"8\")\n",
    "\n",
    "print(\"BFS Traversal\", g.traversal_BFS(\"0\"))\n",
    "print(\"DFS Traversal\", g.traversal_DFS(\"0\"))"
   ]
  },
  {
   "cell_type": "code",
   "execution_count": null,
   "id": "f0d73eac",
   "metadata": {},
   "outputs": [],
   "source": [
    "import networkx as nx\n",
    "\n",
    "from graph.undirectedgraph import * \n",
    "import matplotlib.pyplot as plt\n",
    "\n",
    "nx.draw(g.toNetworkx(), with_labels=True, font_weight=\"bold\", font_color=\"#FFFFFF\", node_size=500, alpha=0.95)\n",
    "plt.show()"
   ]
  }
 ],
 "metadata": {
  "kernelspec": {
   "display_name": "Python 3 (ipykernel)",
   "language": "python",
   "name": "python3"
  },
  "language_info": {
   "codemirror_mode": {
    "name": "ipython",
    "version": 3
   },
   "file_extension": ".py",
   "mimetype": "text/x-python",
   "name": "python",
   "nbconvert_exporter": "python",
   "pygments_lexer": "ipython3",
   "version": "3.10.12"
  }
 },
 "nbformat": 4,
 "nbformat_minor": 5
}
