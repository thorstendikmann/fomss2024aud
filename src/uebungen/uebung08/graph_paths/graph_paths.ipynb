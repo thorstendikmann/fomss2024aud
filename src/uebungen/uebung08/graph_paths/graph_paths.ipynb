{
 "cells": [
  {
   "cell_type": "markdown",
   "id": "5bf06d6e-9ce1-4d2f-8fe3-528206558f45",
   "metadata": {},
   "source": [
    "# Graph Traversal & Shortest Paths\n",
    "\n"
   ]
  },
  {
   "cell_type": "code",
   "execution_count": null,
   "id": "168dbc31",
   "metadata": {},
   "outputs": [],
   "source": [
    "%matplotlib inline\n",
    "\n",
    "from importlib import reload\n",
    "\n",
    "import logging\n",
    "logging.basicConfig(level=logging.WARN,format='%(levelname)s - %(message)s')\n",
    "logging.getLogger(\"graph.undirectedgraph\").setLevel(logging.INFO)\n",
    "logging.getLogger(\"graph.directedgraph\").setLevel(logging.INFO)"
   ]
  },
  {
   "cell_type": "code",
   "execution_count": null,
   "id": "d93f3bc5",
   "metadata": {},
   "outputs": [],
   "source": [
    "# Add the data structure folder to path\n",
    "import sys\n",
    "sys.path.insert(0,'../../../chapter/05_graph/')"
   ]
  },
  {
   "cell_type": "markdown",
   "id": "337cb5a1",
   "metadata": {},
   "source": [
    "For the following graph, calculate all shortest paths with Dijkstra:"
   ]
  },
  {
   "cell_type": "code",
   "execution_count": null,
   "id": "3be75247",
   "metadata": {},
   "outputs": [],
   "source": [
    "from networkx import neighbors\n",
    "from graph.undirectedgraph import * \n",
    "import matplotlib.pyplot as plt\n",
    "\n",
    "import networkx as nx\n",
    "\n",
    "g = Graph()\n",
    "for i in range(0,6+1):\n",
    "    g.add_node(Node(str(i)))\n",
    "\n",
    "g.add_edge_between(str(0),str(2),6)\n",
    "g.add_edge_between(str(0),str(1),2)\n",
    "g.add_edge_between(str(1),str(3),5)\n",
    "g.add_edge_between(str(2),str(3),8)\n",
    "g.add_edge_between(str(3),str(4),10)\n",
    "g.add_edge_between(str(3),str(5),15)\n",
    "g.add_edge_between(str(4),str(6),2)\n",
    "g.add_edge_between(str(5),str(6),6)\n"
   ]
  },
  {
   "cell_type": "markdown",
   "id": "d83298a0",
   "metadata": {},
   "source": [
    "Let's plot the graph first:"
   ]
  },
  {
   "cell_type": "code",
   "execution_count": null,
   "id": "37541932",
   "metadata": {},
   "outputs": [],
   "source": [
    "import matplotlib.pyplot as plt\n",
    "\n",
    "G = g.toNetworkx()\n",
    "pos = nx.spring_layout(G)\n",
    "nx.draw(G, pos, with_labels=True, font_weight=\"bold\", node_size=2000, alpha=0.8, font_size=24, font_color=\"#FFFFFF\")\n",
    "nx.draw_networkx_edge_labels(G, pos, edge_labels=g.getEdgeLabels(), font_size=16, font_color='#0000DD')\n",
    "plt.show()"
   ]
  },
  {
   "cell_type": "code",
   "execution_count": null,
   "id": "c089dce3",
   "metadata": {},
   "outputs": [],
   "source": [
    "## Dijkstra\n",
    "previous_nodes, shortest_path = g.shortestPaths_Dijkstra(startingNodeLabel=\"0\")\n",
    "\n",
    "print(\"Shortest Paths (just values):\")\n",
    "for sp in shortest_path.items():\n",
    "    print(f\"  to {sp[0]}: {sp[1]} | way: {g.make_path(previous_nodes, shortest_path, startingNodeLabel='0', endNodeLabel=str(sp[0]))}\")"
   ]
  },
  {
   "cell_type": "code",
   "execution_count": null,
   "id": "bd9be3cf",
   "metadata": {},
   "outputs": [],
   "source": [
    "# Verify with networkx package\n",
    "G = g.toNetworkx()  ## ... I have a convenience function for this ...\n",
    "\n",
    "shortest_paths = nx.shortest_path(G, source='0', method='dijkstra')\n",
    "for sp in shortest_paths.items():\n",
    "    print(sp)"
   ]
  }
 ],
 "metadata": {
  "kernelspec": {
   "display_name": "Python 3 (ipykernel)",
   "language": "python",
   "name": "python3"
  },
  "language_info": {
   "codemirror_mode": {
    "name": "ipython",
    "version": 3
   },
   "file_extension": ".py",
   "mimetype": "text/x-python",
   "name": "python",
   "nbconvert_exporter": "python",
   "pygments_lexer": "ipython3",
   "version": "3.10.12"
  }
 },
 "nbformat": 4,
 "nbformat_minor": 5
}
