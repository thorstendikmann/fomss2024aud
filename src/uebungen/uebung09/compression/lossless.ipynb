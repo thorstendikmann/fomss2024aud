{
 "cells": [
  {
   "cell_type": "markdown",
   "id": "5bf06d6e-9ce1-4d2f-8fe3-528206558f45",
   "metadata": {},
   "source": [
    "# Lossless encoding excercises\n",
    "\n"
   ]
  },
  {
   "cell_type": "code",
   "execution_count": null,
   "id": "168dbc31",
   "metadata": {},
   "outputs": [],
   "source": [
    "%matplotlib inline\n",
    "\n",
    "from importlib import reload\n",
    "\n",
    "import logging\n",
    "logging.basicConfig(level=logging.WARN,format='%(levelname)s - %(message)s')\n",
    "logging.getLogger(\"lzw\").setLevel(logging.DEBUG)\n",
    "logging.getLogger(\"rle\").setLevel(logging.DEBUG)\n",
    "logging.getLogger(\"huffman\").setLevel(logging.DEBUG)\n",
    "logging.getLogger(\"jupyter\").setLevel(logging.DEBUG)\n",
    "logger = logging.getLogger(\"jupyter\")"
   ]
  },
  {
   "cell_type": "code",
   "execution_count": null,
   "id": "d93f3bc5",
   "metadata": {},
   "outputs": [],
   "source": [
    "# Add the data structure folder to path\n",
    "import sys\n",
    "sys.path.insert(0,'../../../chapter/06_compression/')"
   ]
  },
  {
   "cell_type": "markdown",
   "id": "91e36b16",
   "metadata": {},
   "source": [
    "## LZW\n",
    "\n",
    "Führen Sie mit Hilfe des LZW-Verfahrens die Kodierung und Dekodierung durch für den folgenden Text:\n",
    "\n",
    "Gehen Sie dabei davon aus, dass noch kein Wörterbuch erstellt oder mit ASCII-Zeichen initialisiert wurde. Erstellen Sie daher zunächst ein initiales Wörterbuch aus den vorkommenden Buchstaben, wobei für das initiale Wörterbuch die Konvention „alphabetische Ordnung“ gilt, d.h. dict={'D': 0, 'L': 1, ...} und erstellen Sie ein das weitere Wörterbuch dynamisch gemäß des Algorithmus."
   ]
  },
  {
   "cell_type": "code",
   "execution_count": null,
   "id": "a39a107d",
   "metadata": {},
   "outputs": [],
   "source": [
    "import lzw.lzw\n",
    "\n",
    "data = \"MLPQWDMLWMLPQWMLPQ\"\n",
    "\n",
    "encoded_data, dictionary = lzw.lzw.lzw_compress(data, initializeDictionaryFromASCII=False)\n",
    "decoded_data = lzw.lzw.lzw_decompress(encoded_data, initializeDictionaryFromASCII=False, decode_dictionary=dictionary)\n",
    "\n",
    "print(f\"data:         {data}\")\n",
    "print(f\"encoded_data: {encoded_data}\")\n",
    "print(f\"size(data): {len(data)}*8={len(data)*8} | size(encoded): {len(encoded_data)}*12={len(encoded_data)*12} \")\n",
    "print(f\"decoded_data: {decoded_data}\")"
   ]
  },
  {
   "cell_type": "markdown",
   "id": "d1a122e8",
   "metadata": {},
   "source": [
    "## RLE\n",
    "\n",
    "Gegeben ist ein ein Text mit möglichen Zeichen [A-Z]. Kodieren Sie mit Hilfe der Lauflängenkodierung folgenden Text:"
   ]
  },
  {
   "cell_type": "code",
   "execution_count": null,
   "id": "0ac30492",
   "metadata": {},
   "outputs": [],
   "source": [
    "import rle.rle\n",
    "\n",
    "string = \"AAAAALLLLLDDDDDDDDDDDRRRRMTTTTTTWWWWWWWWGGKK\"\n",
    "compressed_str = rle.rle.rle_compress(string)\n",
    "decompressed_str = rle.rle.rle_decompress(compressed_str)\n",
    "\n",
    "print(f\"Original string    : {string}\")\n",
    "print(f\"Compressed string  : {compressed_str}\")\n",
    "print(f\"Decompressed string: {decompressed_str}\")"
   ]
  },
  {
   "cell_type": "markdown",
   "id": "7e065bf1",
   "metadata": {},
   "source": [
    "## Huffman\n",
    "\n",
    "Bestimmen Sie mit Hilfe der Huffman-Kodierung den Code-Baum und die Kodierung für ..."
   ]
  },
  {
   "cell_type": "code",
   "execution_count": null,
   "id": "cbe5d852",
   "metadata": {},
   "outputs": [],
   "source": [
    "import huffman.huffman\n",
    "\n",
    "string = \"MTMALMTTMBBMTAMM\"\n",
    "encoded_str, heap_node = huffman.huffman.huffman_encode(string, absoluteValues=True)\n",
    "decoded_str = huffman.huffman.huffman_decode(encoded_str, heap_node)\n",
    "\n",
    "print(f\"Original string : {string}\")\n",
    "print(f\"Encoded string  : {encoded_str}\")\n",
    "print(f\"Decoded string  : {decoded_str}\")"
   ]
  }
 ],
 "metadata": {
  "kernelspec": {
   "display_name": "Python 3 (ipykernel)",
   "language": "python",
   "name": "python3"
  },
  "language_info": {
   "codemirror_mode": {
    "name": "ipython",
    "version": 3
   },
   "file_extension": ".py",
   "mimetype": "text/x-python",
   "name": "python",
   "nbconvert_exporter": "python",
   "pygments_lexer": "ipython3",
   "version": "3.10.12"
  }
 },
 "nbformat": 4,
 "nbformat_minor": 5
}
